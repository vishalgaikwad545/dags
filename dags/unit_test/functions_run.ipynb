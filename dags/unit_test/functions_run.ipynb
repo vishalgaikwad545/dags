{
 "cells": [
  {
   "cell_type": "code",
   "execution_count": 1,
   "id": "e1df7b63-0fe3-4016-aafc-356c04654551",
   "metadata": {},
   "outputs": [],
   "source": [
    "from utils import *\n",
    "from data_validation_checks import *"
   ]
  },
  {
   "cell_type": "code",
   "execution_count": 2,
   "id": "737855e9-171a-4cbc-a405-d42bb8f80f14",
   "metadata": {},
   "outputs": [
    {
     "name": "stdout",
     "output_type": "stream",
     "text": [
      "DB Already Exsists\n"
     ]
    },
    {
     "data": {
      "text/plain": [
       "'DB Exsists'"
      ]
     },
     "execution_count": 2,
     "metadata": {},
     "output_type": "execute_result"
    }
   ],
   "source": [
    "build_dbs()"
   ]
  },
  {
   "cell_type": "code",
   "execution_count": 3,
   "id": "88c32dba-fb7b-487d-8d2f-9e96fb7528ed",
   "metadata": {},
   "outputs": [
    {
     "name": "stdout",
     "output_type": "stream",
     "text": [
      "Raw datas schema is in line with the schema present in schema.py\n"
     ]
    }
   ],
   "source": [
    "raw_data_schema_check()"
   ]
  },
  {
   "cell_type": "code",
   "execution_count": 4,
   "id": "5479356d-f619-4d9c-bb16-c7c6d3e64656",
   "metadata": {},
   "outputs": [
    {
     "name": "stdout",
     "output_type": "stream",
     "text": [
      "Loaded the data into DB successfully\n"
     ]
    }
   ],
   "source": [
    "load_data_into_db()"
   ]
  },
  {
   "cell_type": "code",
   "execution_count": 5,
   "id": "ae90ecb5-3025-4c96-9331-2b468ef40420",
   "metadata": {},
   "outputs": [],
   "source": [
    "map_city_tier()"
   ]
  },
  {
   "cell_type": "code",
   "execution_count": 6,
   "id": "8bb8adbd-b9ba-4e45-ac6e-f447b10b6879",
   "metadata": {},
   "outputs": [],
   "source": [
    "map_categorical_vars()"
   ]
  },
  {
   "cell_type": "code",
   "execution_count": null,
   "id": "592a7e4b-c03f-4eea-b477-530ef4b236ff",
   "metadata": {},
   "outputs": [],
   "source": [
    "interactions_mapping()"
   ]
  },
  {
   "cell_type": "code",
   "execution_count": null,
   "id": "fdbc35e5-1707-4eb6-8bf2-8fd0c3dd5308",
   "metadata": {},
   "outputs": [],
   "source": [
    "model_input_schema_check()"
   ]
  }
 ],
 "metadata": {
  "kernelspec": {
   "display_name": "Python 3 (ipykernel)",
   "language": "python",
   "name": "python3"
  },
  "language_info": {
   "codemirror_mode": {
    "name": "ipython",
    "version": 3
   },
   "file_extension": ".py",
   "mimetype": "text/x-python",
   "name": "python",
   "nbconvert_exporter": "python",
   "pygments_lexer": "ipython3",
   "version": "3.8.12"
  }
 },
 "nbformat": 4,
 "nbformat_minor": 5
}
