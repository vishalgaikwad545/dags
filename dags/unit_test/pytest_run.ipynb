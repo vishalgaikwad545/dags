{
 "cells": [
  {
   "cell_type": "code",
   "execution_count": 1,
   "id": "bf9dc3e3-e06d-445c-8bcd-024fa32def41",
   "metadata": {},
   "outputs": [
    {
     "name": "stdout",
     "output_type": "stream",
     "text": [
      "Requirement already satisfied: pytest in /opt/conda/lib/python3.8/site-packages (6.2.5)\n",
      "Requirement already satisfied: pluggy<2.0,>=0.12 in /opt/conda/lib/python3.8/site-packages (from pytest) (1.0.0)\n",
      "Requirement already satisfied: py>=1.8.2 in /opt/conda/lib/python3.8/site-packages (from pytest) (1.11.0)\n",
      "Requirement already satisfied: attrs>=19.2.0 in /opt/conda/lib/python3.8/site-packages (from pytest) (21.4.0)\n",
      "Requirement already satisfied: iniconfig in /opt/conda/lib/python3.8/site-packages (from pytest) (1.1.1)\n",
      "Requirement already satisfied: toml in /opt/conda/lib/python3.8/site-packages (from pytest) (0.10.2)\n",
      "Requirement already satisfied: packaging in /opt/conda/lib/python3.8/site-packages (from pytest) (21.3)\n",
      "Requirement already satisfied: pyparsing!=3.0.5,>=2.0.2 in /opt/conda/lib/python3.8/site-packages (from packaging->pytest) (3.0.7)\n",
      "\u001b[33mWARNING: Running pip as the 'root' user can result in broken permissions and conflicting behaviour with the system package manager. It is recommended to use a virtual environment instead: https://pip.pypa.io/warnings/venv\u001b[0m\n"
     ]
    }
   ],
   "source": [
    "!pip install pytest"
   ]
  },
  {
   "cell_type": "code",
   "execution_count": 2,
   "id": "ac29a6df-d9f7-40c7-a19b-3b5e16c94f4e",
   "metadata": {},
   "outputs": [
    {
     "name": "stdout",
     "output_type": "stream",
     "text": [
      "\u001b[1m============================= test session starts ==============================\u001b[0m\n",
      "platform linux -- Python 3.8.12, pytest-6.2.5, py-1.11.0, pluggy-1.0.0\n",
      "rootdir: /home/Assignment/unit_test\n",
      "plugins: anyio-3.6.1, cov-3.0.0, pythonpath-0.7.4, hypothesis-4.50.8\n",
      "collected 4 items                                                              \u001b[0m\n",
      "\n",
      "test_with_pytest.py \u001b[32m.\u001b[0m\u001b[31mF\u001b[0m\u001b[31mF\u001b[0m\u001b[32m.\u001b[0m\u001b[31m                                                 [100%]\u001b[0m\n",
      "\n",
      "=================================== FAILURES ===================================\n",
      "\u001b[31m\u001b[1m______________________________ test_map_city_tier ______________________________\u001b[0m\n",
      "\n",
      "    \u001b[94mdef\u001b[39;49;00m \u001b[92mtest_map_city_tier\u001b[39;49;00m():\n",
      "        \u001b[33m\"\"\"_summary_\u001b[39;49;00m\n",
      "    \u001b[33m    This function checks if map_city_tier function is working properly by\u001b[39;49;00m\n",
      "    \u001b[33m    comparing its output with test cases provided in the db in a table named\u001b[39;49;00m\n",
      "    \u001b[33m    'city_tier_mapped_test_case'\u001b[39;49;00m\n",
      "    \u001b[33m\u001b[39;49;00m\n",
      "    \u001b[33m    INPUT\u001b[39;49;00m\n",
      "    \u001b[33m        db_path : path at which db file is supposed to be created/present\u001b[39;49;00m\n",
      "    \u001b[33m        db_file_name : name of the db file\u001b[39;49;00m\n",
      "    \u001b[33m\u001b[39;49;00m\n",
      "    \u001b[33m    SAMPLE USAGE\u001b[39;49;00m\n",
      "    \u001b[33m        output=test_map_city_tier()\u001b[39;49;00m\n",
      "    \u001b[33m\u001b[39;49;00m\n",
      "    \u001b[33m    \"\"\"\u001b[39;49;00m\n",
      "    \n",
      "        map_city_tier()\n",
      "    \n",
      "        cnx = sqlite3.connect(DB_PATH+DB_FILE_NAME)\n",
      "        city_tier_mapped_df = pd.read_sql(\u001b[33m'\u001b[39;49;00m\u001b[33mselect * from city_tier_mapped\u001b[39;49;00m\u001b[33m'\u001b[39;49;00m, cnx)\n",
      "    \n",
      "        cnx_ut = sqlite3.connect(DB_PATH+UNIT_TEST_DB_FILE_NAME)\n",
      "        test_case = pd.read_sql(\u001b[33m'\u001b[39;49;00m\u001b[33mselect * from city_tier_mapped_test_case\u001b[39;49;00m\u001b[33m'\u001b[39;49;00m, cnx_ut)\n",
      "    \n",
      "        cnx.close()\n",
      "        cnx_ut.close()\n",
      "    \n",
      ">       \u001b[94massert\u001b[39;49;00m test_case.equals(city_tier_mapped_df)\n",
      "\u001b[1m\u001b[31mE       assert False\u001b[0m\n",
      "\u001b[1m\u001b[31mE        +  where False = <bound method NDFrame.equals of            created_date first_platform_c  ... app_complete_flag city_tier\\n0   2021-11-...        1       1.0\\n99  2021-11-12 07:02:01           Level0  ...                 0       1.0\\n\\n[100 rows x 45 columns]>(           created_date city_mapped  ... app_complete_flag city_tier\\n0   2021-11-19 15:25:38    ghazipur  ...         ...              1       1.0\\n99  2021-11-12 07:02:01         ncr  ...                 0       1.0\\n\\n[100 rows x 46 columns])\u001b[0m\n",
      "\u001b[1m\u001b[31mE        +    where <bound method NDFrame.equals of            created_date first_platform_c  ... app_complete_flag city_tier\\n0   2021-11-...        1       1.0\\n99  2021-11-12 07:02:01           Level0  ...                 0       1.0\\n\\n[100 rows x 45 columns]> =            created_date first_platform_c  ... app_complete_flag city_tier\\n0   2021-11-19 15:25:38           Level3  .....         1       1.0\\n99  2021-11-12 07:02:01           Level0  ...                 0       1.0\\n\\n[100 rows x 45 columns].equals\u001b[0m\n",
      "\n",
      "\u001b[1m\u001b[31mtest_with_pytest.py\u001b[0m:69: AssertionError\n",
      "\u001b[31m\u001b[1m__________________________ test_map_categorical_vars ___________________________\u001b[0m\n",
      "\n",
      "    \u001b[94mdef\u001b[39;49;00m \u001b[92mtest_map_categorical_vars\u001b[39;49;00m():\n",
      "        \u001b[33m\"\"\"_summary_\u001b[39;49;00m\n",
      "    \u001b[33m    This function checks if map_cat_vars function is working properly by\u001b[39;49;00m\n",
      "    \u001b[33m    comparing its output with test cases provided in the db in a table named\u001b[39;49;00m\n",
      "    \u001b[33m    'categorical_variables_mapped_test_case'\u001b[39;49;00m\n",
      "    \u001b[33m\u001b[39;49;00m\n",
      "    \u001b[33m    INPUT\u001b[39;49;00m\n",
      "    \u001b[33m        db_path : path at which db file is supposed to be created/present\u001b[39;49;00m\n",
      "    \u001b[33m        db_file_name : name of the db file\u001b[39;49;00m\n",
      "    \u001b[33m\u001b[39;49;00m\n",
      "    \u001b[33m    SAMPLE USAGE\u001b[39;49;00m\n",
      "    \u001b[33m        output=test_map_cat_vars()\u001b[39;49;00m\n",
      "    \u001b[33m\u001b[39;49;00m\n",
      "    \u001b[33m    \"\"\"\u001b[39;49;00m\n",
      "    \n",
      "        map_categorical_vars()\n",
      "    \n",
      "        cnx = sqlite3.connect(DB_PATH+DB_FILE_NAME)\n",
      "        categorical_variable_mapped = pd.read_sql(\u001b[33m'\u001b[39;49;00m\u001b[33mselect * from categorical_variables_mapped\u001b[39;49;00m\u001b[33m'\u001b[39;49;00m, cnx)\n",
      "    \n",
      "        cnx_ut = sqlite3.connect(DB_PATH+UNIT_TEST_DB_FILE_NAME)\n",
      "        test_case = pd.read_sql(\u001b[33m'\u001b[39;49;00m\u001b[33mselect * from categorical_variables_mapped_test_case\u001b[39;49;00m\u001b[33m'\u001b[39;49;00m, cnx_ut)\n",
      "    \n",
      "        cnx.close()\n",
      "        cnx_ut.close()\n",
      "    \n",
      ">       \u001b[94massert\u001b[39;49;00m test_case.equals(categorical_variable_mapped)\n",
      "\u001b[1m\u001b[31mE       assert False\u001b[0m\n",
      "\u001b[1m\u001b[31mE        +  where False = <bound method NDFrame.equals of            created_date first_platform_c  ... app_complete_flag city_tier\\n0   2022-02-...        0       3.0\\n99  2022-01-16 15:38:15           Level0  ...                 1       1.0\\n\\n[100 rows x 45 columns]>(           created_date city_mapped  ... app_complete_flag city_tier\\n0   2021-11-19 15:25:38    ghazipur  ...         ...              1       1.0\\n99  2021-11-12 07:02:01         ncr  ...                 0       1.0\\n\\n[100 rows x 46 columns])\u001b[0m\n",
      "\u001b[1m\u001b[31mE        +    where <bound method NDFrame.equals of            created_date first_platform_c  ... app_complete_flag city_tier\\n0   2022-02-...        0       3.0\\n99  2022-01-16 15:38:15           Level0  ...                 1       1.0\\n\\n[100 rows x 45 columns]> =            created_date first_platform_c  ... app_complete_flag city_tier\\n0   2022-02-10 08:28:30           Level0  .....         0       3.0\\n99  2022-01-16 15:38:15           Level0  ...                 1       1.0\\n\\n[100 rows x 45 columns].equals\u001b[0m\n",
      "\n",
      "\u001b[1m\u001b[31mtest_with_pytest.py\u001b[0m:100: AssertionError\n",
      "=========================== short test summary info ============================\n",
      "FAILED test_with_pytest.py::test_map_city_tier - assert False\n",
      "FAILED test_with_pytest.py::test_map_categorical_vars - assert False\n",
      "\u001b[31m========================= \u001b[31m\u001b[1m2 failed\u001b[0m, \u001b[32m2 passed\u001b[0m\u001b[31m in 0.86s\u001b[0m\u001b[31m ==========================\u001b[0m\n"
     ]
    }
   ],
   "source": [
    "!pytest"
   ]
  },
  {
   "cell_type": "code",
   "execution_count": null,
   "id": "53f1a74a-d593-42a9-aa07-74c55a2e8c52",
   "metadata": {},
   "outputs": [],
   "source": []
  }
 ],
 "metadata": {
  "kernelspec": {
   "display_name": "Python 3 (ipykernel)",
   "language": "python",
   "name": "python3"
  },
  "language_info": {
   "codemirror_mode": {
    "name": "ipython",
    "version": 3
   },
   "file_extension": ".py",
   "mimetype": "text/x-python",
   "name": "python",
   "nbconvert_exporter": "python",
   "pygments_lexer": "ipython3",
   "version": "3.8.12"
  }
 },
 "nbformat": 4,
 "nbformat_minor": 5
}
